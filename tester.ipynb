{
 "cells": [
  {
   "cell_type": "code",
   "execution_count": 8,
   "metadata": {},
   "outputs": [
    {
     "name": "stdout",
     "output_type": "stream",
     "text": [
      "    Project_ID  Land_Size_Sqm  Num_Floors  Tons_Cement  Tons_Concrete  \\\n",
      "0          P-1        1267.59          12       253.52         126.76   \n",
      "1          P-2        1828.55           3       300.00         182.85   \n",
      "2          P-3        3642.14          15       728.43         364.21   \n",
      "3          P-4        1165.14           7       233.03         116.51   \n",
      "4          P-5         925.15           4       185.03          92.51   \n",
      "..         ...            ...         ...          ...            ...   \n",
      "495      P-496        1461.12          10       292.22         146.11   \n",
      "496      P-497        3630.67           5       500.00         363.07   \n",
      "497      P-498        3580.14           8       716.03         358.01   \n",
      "498      P-499        2656.59           5       500.00         265.66   \n",
      "499      P-500        3970.76           2       200.00         397.08   \n",
      "\n",
      "     Tons_Sand  Labor_Required Start_Date   End_Date  \n",
      "0        63.38              60 2020-01-01 2020-12-23  \n",
      "1        91.43              15 2020-01-01 2020-06-19  \n",
      "2       182.11              75 2020-01-01 2020-03-23  \n",
      "3        58.26              35 2020-01-01 2020-11-05  \n",
      "4        46.26              20 2020-01-01 2020-02-16  \n",
      "..         ...             ...        ...        ...  \n",
      "495      73.06              50 2020-01-01 2020-04-19  \n",
      "496     181.53              25 2020-01-01 2020-02-25  \n",
      "497     179.01              40 2020-01-01 2020-09-13  \n",
      "498     132.83              25 2020-01-01 2020-12-06  \n",
      "499     100.00              10 2020-01-01 2020-05-20  \n",
      "\n",
      "[500 rows x 9 columns]\n"
     ]
    }
   ],
   "source": [
    "import pandas as pd\n",
    "import random\n",
    "from datetime import datetime, timedelta\n",
    "\n",
    "# Set a random seed for reproducibility\n",
    "random.seed(42)\n",
    "\n",
    "# Generate a practical sample dataset\n",
    "def generate_practical_data(num_rows=500):\n",
    "    data = []\n",
    "\n",
    "    for i in range(num_rows):\n",
    "        start_date = datetime(2020, 1, 1)\n",
    "        project_duration = random.randint(30, 365)  # Project duration in days\n",
    "        end_date = start_date + timedelta(days=project_duration)\n",
    "\n",
    "        land_size = random.uniform(800, 5000)\n",
    "        num_floors = random.randint(1, 15)\n",
    "        \n",
    "        # Establish relationships to ensure practical values\n",
    "        tons_cement = max(10, min(land_size / 5, num_floors * 100))\n",
    "        tons_concrete = max(50, min(land_size / 10, num_floors * 200))\n",
    "        tons_sand = max(20, min(land_size / 20, num_floors * 50))\n",
    "        \n",
    "        labor_required = max(5, min(num_floors * 5, 150))\n",
    "\n",
    "        data.append({\n",
    "            'Project_ID': f'P-{i + 1}',\n",
    "            'Land_Size_Sqm': round(land_size,2),\n",
    "            'Num_Floors': num_floors,\n",
    "            'Tons_Cement': round(tons_cement, 2),\n",
    "            'Tons_Concrete': round(tons_concrete, 2),\n",
    "            'Tons_Sand': round(tons_sand, 2),\n",
    "            'Labor_Required': labor_required,\n",
    "            'Start_Date': start_date,\n",
    "            'End_Date': end_date,\n",
    "        })\n",
    "\n",
    "    return data\n",
    "\n",
    "# Create a DataFrame\n",
    "dataset = pd.DataFrame(generate_practical_data())\n",
    "csv_file_path = 'C:/Users/sriyo/Desktop/Bob\\'s Esti-Mate/output.csv'\n",
    "\n",
    "dataset.to_csv(csv_file_path, index=False)\n",
    "\n",
    "print(dataset)"
   ]
  },
  {
   "cell_type": "code",
   "execution_count": 10,
   "metadata": {},
   "outputs": [
    {
     "name": "stdout",
     "output_type": "stream",
     "text": [
      "<class 'pandas.core.frame.DataFrame'>\n",
      "RangeIndex: 500 entries, 0 to 499\n",
      "Data columns (total 9 columns):\n",
      " #   Column          Non-Null Count  Dtype  \n",
      "---  ------          --------------  -----  \n",
      " 0   Project_ID      500 non-null    object \n",
      " 1   Land_Size_Sqm   500 non-null    float64\n",
      " 2   Num_Floors      500 non-null    int64  \n",
      " 3   Tons_Cement     500 non-null    float64\n",
      " 4   Tons_Concrete   500 non-null    float64\n",
      " 5   Tons_Sand       500 non-null    float64\n",
      " 6   Labor_Required  500 non-null    int64  \n",
      " 7   Start_Date      500 non-null    object \n",
      " 8   End_Date        500 non-null    object \n",
      "dtypes: float64(4), int64(2), object(3)\n",
      "memory usage: 35.3+ KB\n"
     ]
    }
   ],
   "source": [
    "df=pd.read_csv('output.csv')\n",
    "df.info()"
   ]
  },
  {
   "cell_type": "code",
   "execution_count": 11,
   "metadata": {},
   "outputs": [],
   "source": [
    "df['End_Date'] = pd.to_datetime(df['End_Date'], format=\"%Y-%m-%d\")\n",
    "df['Start_Date ']=pd.to_datetime(df['Start_Date'],format=\"%Y-%m-%d\")"
   ]
  },
  {
   "cell_type": "code",
   "execution_count": 12,
   "metadata": {},
   "outputs": [
    {
     "name": "stdout",
     "output_type": "stream",
     "text": [
      "<class 'pandas.core.frame.DataFrame'>\n",
      "RangeIndex: 500 entries, 0 to 499\n",
      "Data columns (total 10 columns):\n",
      " #   Column          Non-Null Count  Dtype         \n",
      "---  ------          --------------  -----         \n",
      " 0   Project_ID      500 non-null    object        \n",
      " 1   Land_Size_Sqm   500 non-null    float64       \n",
      " 2   Num_Floors      500 non-null    int64         \n",
      " 3   Tons_Cement     500 non-null    float64       \n",
      " 4   Tons_Concrete   500 non-null    float64       \n",
      " 5   Tons_Sand       500 non-null    float64       \n",
      " 6   Labor_Required  500 non-null    int64         \n",
      " 7   Start_Date      500 non-null    object        \n",
      " 8   End_Date        500 non-null    datetime64[ns]\n",
      " 9   Start_Date      500 non-null    datetime64[ns]\n",
      "dtypes: datetime64[ns](2), float64(4), int64(2), object(2)\n",
      "memory usage: 39.2+ KB\n"
     ]
    }
   ],
   "source": [
    "df.info()"
   ]
  },
  {
   "cell_type": "code",
   "execution_count": null,
   "metadata": {},
   "outputs": [],
   "source": []
  }
 ],
 "metadata": {
  "kernelspec": {
   "display_name": "Python 3",
   "language": "python",
   "name": "python3"
  },
  "language_info": {
   "codemirror_mode": {
    "name": "ipython",
    "version": 3
   },
   "file_extension": ".py",
   "mimetype": "text/x-python",
   "name": "python",
   "nbconvert_exporter": "python",
   "pygments_lexer": "ipython3",
   "version": "3.10.10"
  }
 },
 "nbformat": 4,
 "nbformat_minor": 2
}
